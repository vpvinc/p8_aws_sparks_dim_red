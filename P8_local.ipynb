{
 "cells": [
  {
   "cell_type": "markdown",
   "id": "658f1586-d8b4-468b-9c0c-0f9d1d039e83",
   "metadata": {},
   "source": [
    "# Import modules"
   ]
  },
  {
   "cell_type": "code",
   "execution_count": null,
   "id": "fd7796f6-a1d8-47a3-8f34-ad8fb835f8cc",
   "metadata": {},
   "outputs": [],
   "source": [
    "seed = 42 # random state set for reproducibility\n",
    "\n",
    "# general modules\n",
    "import numpy as np\n",
    "import pandas as pd\n",
    "import os\n",
    "import re\n",
    "import random\n",
    "import matplotlib\n",
    "import matplotlib.pyplot as plt\n",
    "%matplotlib inline\n",
    "import PIL\n",
    "import urllib\n",
    "import seaborn as sns\n",
    "sns.set()\n",
    "plt.rc('figure', figsize=(10, 6))\n",
    "import cloudpickle as cp\n",
    "\n",
    "# spark modules\n",
    "# java 1.8.0_301\n",
    "# spark 3.1.2\n",
    "# hadoop 3.2.0\n",
    "import findspark\n",
    "findspark.init()\n",
    "findspark.find()\n",
    "import pyspark\n",
    "from pyspark.sql import SparkSession\n",
    "from pyspark import SparkContext, SparkConf\n",
    "\n",
    "# modules for featurization with transfer learning\n",
    "from PIL import Image\n",
    "import io\n",
    "import tensorflow as tf\n",
    "from tensorflow.keras.applications.resnet50 import ResNet50, preprocess_input\n",
    "from tensorflow.keras.preprocessing.image import img_to_array\n",
    "from pyspark.sql.functions import col, pandas_udf, PandasUDFType, split\n",
    "\n",
    "# PCA\n",
    "from pyspark.ml.linalg import Vectors, VectorUDT\n",
    "from pyspark.sql.functions import udf\n",
    "from pyspark.ml.feature import StringIndexer, StandardScaler\n",
    "from pyspark.ml.feature import PCA\n",
    "\n",
    "# module for s3\n",
    "import boto3\n",
    "\n",
    "\"\"\"Importing personal functions and style params\"\"\"\n",
    "os.chdir('C:/Users/VP/Google Drive/Education/OC/working_directory/personal_modules')\n",
    "from useful_functions import* "
   ]
  },
  {
   "cell_type": "code",
   "execution_count": 4,
   "id": "4b2e13b9-2388-4930-92fb-128903131e0b",
   "metadata": {},
   "outputs": [],
   "source": [
    "# checking that environement variables and PATH are properly set for spark, java and hadoop\n",
    "# import os\n",
    "# print(os.environ['SPARK_HOME'])\n",
    "# print(os.environ['JAVA_HOME'])\n",
    "# print(os.environ['HADOOP_HOME'])\n",
    "# print(os.environ['PATH'])"
   ]
  },
  {
   "cell_type": "markdown",
   "id": "f505e074-f283-4f8c-9fec-bf1d31fa14ba",
   "metadata": {},
   "source": [
    "# Start and set up session"
   ]
  },
  {
   "cell_type": "code",
   "execution_count": 5,
   "id": "65079cb5-caa5-4e12-8238-1b6ab84c7a66",
   "metadata": {},
   "outputs": [],
   "source": [
    "from pyspark.sql import SparkSession\n",
    "# app name\n",
    "# master URL: local[*] = all available local cores\n",
    "# access key for spark to connect s3\n",
    "# secret key for spark to connect s3\n",
    "# setting file system between hadoop and s3\n",
    "# increasing default heartbeat interval (default: 10s)\n",
    "# increasing default network.timeout (default: 3600s)\n",
    "\n",
    "spark = SparkSession.builder.appName('p8') \\\n",
    "                            .master('local') \\\n",
    "                            .config('spark.hadoop.fs.s3a.access.key', '<your access key>') \\\n",
    "                            .config('spark.hadoop.fs.s3a.secret.key', '<your secret key>') \\\n",
    "                            .config('spark.hadoop.fs.s3a.impl', 'org.apache.hadoop.fs.s3a.S3AFileSystem') \\\n",
    "                            .getOrCreate()\n",
    "#                            .config('spark.executor.heartbeatInterval',\"1200s\") \\\n",
    "#                            .config('spark.network.timeout', '3600s') \\\n",
    "\n",
    "sc = spark.sparkContext\n",
    "# more settings for s3 and spark\n",
    "sc.setSystemProperty('com.amazonaws.services.s3.enableV4', 'true')\n",
    "sc._jsc.hadoopConfiguration().set(\"fs.s3a.endpoint\", \"s3.us-east-2.amazonaws.com\") # /!\\ region"
   ]
  },
  {
   "cell_type": "code",
   "execution_count": 1,
   "id": "1b67cd43-9b61-4432-8904-d0bc27071602",
   "metadata": {},
   "outputs": [
    {
     "ename": "NameError",
     "evalue": "name 'spark' is not defined",
     "output_type": "error",
     "traceback": [
      "\u001b[1;31m---------------------------------------------------------------------------\u001b[0m",
      "\u001b[1;31mNameError\u001b[0m                                 Traceback (most recent call last)",
      "\u001b[1;32m~\\AppData\\Local\\Temp/ipykernel_63180/2662599950.py\u001b[0m in \u001b[0;36m<module>\u001b[1;34m\u001b[0m\n\u001b[0;32m      1\u001b[0m \u001b[1;31m# checking versions\u001b[0m\u001b[1;33m\u001b[0m\u001b[1;33m\u001b[0m\u001b[1;33m\u001b[0m\u001b[0m\n\u001b[1;32m----> 2\u001b[1;33m \u001b[0mprint\u001b[0m\u001b[1;33m(\u001b[0m\u001b[1;34m\"Spark Version:\"\u001b[0m \u001b[1;33m+\u001b[0m \u001b[0mspark\u001b[0m\u001b[1;33m.\u001b[0m\u001b[0mversion\u001b[0m\u001b[1;33m)\u001b[0m\u001b[1;33m\u001b[0m\u001b[1;33m\u001b[0m\u001b[0m\n\u001b[0m\u001b[0;32m      3\u001b[0m \u001b[0mprint\u001b[0m\u001b[1;33m(\u001b[0m\u001b[1;34m\"Hadoop version: \"\u001b[0m \u001b[1;33m+\u001b[0m \u001b[0msc\u001b[0m\u001b[1;33m.\u001b[0m\u001b[0m_gateway\u001b[0m\u001b[1;33m.\u001b[0m\u001b[0mjvm\u001b[0m\u001b[1;33m.\u001b[0m\u001b[0morg\u001b[0m\u001b[1;33m.\u001b[0m\u001b[0mapache\u001b[0m\u001b[1;33m.\u001b[0m\u001b[0mhadoop\u001b[0m\u001b[1;33m.\u001b[0m\u001b[0mutil\u001b[0m\u001b[1;33m.\u001b[0m\u001b[0mVersionInfo\u001b[0m\u001b[1;33m.\u001b[0m\u001b[0mgetVersion\u001b[0m\u001b[1;33m(\u001b[0m\u001b[1;33m)\u001b[0m\u001b[1;33m)\u001b[0m\u001b[1;33m\u001b[0m\u001b[1;33m\u001b[0m\u001b[0m\n",
      "\u001b[1;31mNameError\u001b[0m: name 'spark' is not defined"
     ]
    }
   ],
   "source": [
    "# checking versions\n",
    "print(\"Spark Version:\" + spark.version)\n",
    "print(\"Hadoop version: \" + sc._gateway.jvm.org.apache.hadoop.util.VersionInfo.getVersion())"
   ]
  },
  {
   "cell_type": "code",
   "execution_count": 7,
   "id": "106274c5-abff-4565-8e10-1a0b60a80098",
   "metadata": {},
   "outputs": [
    {
     "data": {
      "text/plain": [
       "4"
      ]
     },
     "execution_count": 7,
     "metadata": {},
     "output_type": "execute_result"
    }
   ],
   "source": [
    "# check that spark is running\n",
    "nums = sc.parallelize([1,2,3,4])\n",
    "nums.count()"
   ]
  },
  {
   "cell_type": "markdown",
   "id": "f6e6a16d-92db-4f34-92d6-fb7186539218",
   "metadata": {},
   "source": [
    "# Load images"
   ]
  },
  {
   "cell_type": "code",
   "execution_count": 8,
   "id": "70e74299-e196-452e-883b-1b6b82715a14",
   "metadata": {},
   "outputs": [
    {
     "data": {
      "text/plain": [
       "DataFrame[path: string, modificationTime: timestamp, length: bigint, content: binary]"
      ]
     },
     "metadata": {},
     "output_type": "display_data"
    }
   ],
   "source": [
    "images = spark.read.format(\"binaryFile\") \\\n",
    "  .option(\"pathGlobFilter\", \"*.jpg\") \\\n",
    "  .option(\"recursiveFileLookup\", \"true\") \\\n",
    "  .load(\"C:/Users/VP/Documents/OC/P8/training_data\")\n",
    "\n",
    "display(images.limit(5))"
   ]
  },
  {
   "cell_type": "code",
   "execution_count": 10,
   "id": "cb1ce7a8-6765-41c8-9476-b95412aad2f6",
   "metadata": {},
   "outputs": [
    {
     "name": "stdout",
     "output_type": "stream",
     "text": [
      "+--------------------+--------------------+--------------+\n",
      "|                path|             content|         label|\n",
      "+--------------------+--------------------+--------------+\n",
      "|file:/C:/Users/VP...|[FF D8 FF E0 00 1...|        pear_1|\n",
      "|file:/C:/Users/VP...|[FF D8 FF E0 00 1...|        pear_1|\n",
      "|file:/C:/Users/VP...|[FF D8 FF E0 00 1...|        pear_1|\n",
      "|file:/C:/Users/VP...|[FF D8 FF E0 00 1...|apple_golden_1|\n",
      "|file:/C:/Users/VP...|[FF D8 FF E0 00 1...|apple_golden_1|\n",
      "|file:/C:/Users/VP...|[FF D8 FF E0 00 1...|apple_golden_1|\n",
      "|file:/C:/Users/VP...|[FF D8 FF E0 00 1...|      carrot_1|\n",
      "|file:/C:/Users/VP...|[FF D8 FF E0 00 1...|      carrot_1|\n",
      "|file:/C:/Users/VP...|[FF D8 FF E0 00 1...|      carrot_1|\n",
      "+--------------------+--------------------+--------------+\n",
      "\n"
     ]
    }
   ],
   "source": [
    "images = images.withColumn('label', split(col('path'), '/').getItem(8))\n",
    "images = images.select('path', 'content', 'label')\n",
    "images.show()"
   ]
  },
  {
   "cell_type": "markdown",
   "id": "98774d11-3ab7-4f35-9f23-e2f026f87eb7",
   "metadata": {},
   "source": [
    "# Featurization and transfer learning with TensorFlow"
   ]
  },
  {
   "cell_type": "markdown",
   "id": "7f9d1257-7c65-4adc-9e21-e6f823a6600c",
   "metadata": {},
   "source": [
    "https://docs.databricks.com/applications/machine-learning/preprocess-data/transfer-learning-tensorflow.html"
   ]
  },
  {
   "cell_type": "code",
   "execution_count": 11,
   "id": "c688feee-417e-4380-abcc-ab08b6ce2bc3",
   "metadata": {
    "tags": []
   },
   "outputs": [
    {
     "name": "stderr",
     "output_type": "stream",
     "text": [
      "C:\\Users\\VP\\anaconda3\\envs\\env_p8_3_7\\lib\\site-packages\\keras_applications\\resnet50.py:265: UserWarning: The output shape of `ResNet50(include_top=False)` has been changed since Keras 2.2.0.\n",
      "  warnings.warn('The output shape of `ResNet50(include_top=False)` '\n"
     ]
    }
   ],
   "source": [
    "# verify that the top layer is removed\n",
    "model = ResNet50(include_top=False)\n",
    "# model.summary()  "
   ]
  },
  {
   "cell_type": "code",
   "execution_count": 12,
   "id": "b999a4f1-5d12-4d19-bd27-8754e979498a",
   "metadata": {},
   "outputs": [],
   "source": [
    "bc_model_weights = sc.broadcast(model.get_weights())\n",
    "\n",
    "def model_fn():\n",
    "    \"\"\"\n",
    "    Returns a ResNet50 model with top layer removed and broadcasted pretrained weights.\n",
    "    \"\"\"\n",
    "    model = ResNet50(weights=None, include_top=False)\n",
    "    model.set_weights(bc_model_weights.value)\n",
    "    return model"
   ]
  },
  {
   "cell_type": "code",
   "execution_count": 13,
   "id": "f620466d-d92e-4f15-9546-a120ffedfb6f",
   "metadata": {},
   "outputs": [],
   "source": [
    "def preprocess(content):\n",
    "  \"\"\"\n",
    "  Preprocesses raw image bytes for prediction.\n",
    "  \"\"\"\n",
    "  img = Image.open(io.BytesIO(content)).resize([224, 224])\n",
    "  arr = img_to_array(img)\n",
    "  return preprocess_input(arr)\n",
    "\n",
    "def featurize_series(model, content_series):\n",
    "  \"\"\"\n",
    "  Featurize a pd.Series of raw images using the input model.\n",
    "  :return: a pd.Series of image features\n",
    "  \"\"\"\n",
    "  input = np.stack(content_series.map(preprocess))\n",
    "  preds = model.predict(input)\n",
    "  # For some layers, output features will be multi-dimensional tensors.\n",
    "  # We flatten the feature tensors to vectors for easier storage in Spark DataFrames.\n",
    "  output = [p.flatten() for p in preds]\n",
    "  return pd.Series(output)"
   ]
  },
  {
   "cell_type": "code",
   "execution_count": 14,
   "id": "d5a3dea3-2903-40e2-99a2-fdcfc1ad673b",
   "metadata": {},
   "outputs": [
    {
     "name": "stderr",
     "output_type": "stream",
     "text": [
      "C:\\Users\\VP\\anaconda3\\envs\\env_p8_3_7\\lib\\site-packages\\pyspark\\sql\\pandas\\functions.py:392: UserWarning: In Python 3.6+ and Spark 3.0+, it is preferred to specify type hints for pandas UDF instead of specifying pandas UDF type which will be deprecated in the future releases. See SPARK-28264 for more details.\n",
      "  \"in the future releases. See SPARK-28264 for more details.\", UserWarning)\n"
     ]
    }
   ],
   "source": [
    "@pandas_udf('array<float>', PandasUDFType.SCALAR_ITER)\n",
    "def featurize_udf(content_series_iter):\n",
    "  '''\n",
    "  This method is a Scalar Iterator pandas UDF wrapping our featurization function.\n",
    "  The decorator specifies that this returns a Spark DataFrame column of type ArrayType(FloatType).\n",
    "  \n",
    "  :param content_series_iter: This argument is an iterator over batches of data, where each batch\n",
    "                              is a pandas Series of image data.\n",
    "  '''\n",
    "  # With Scalar Iterator pandas UDFs, we can load the model once and then re-use it\n",
    "  # for multiple data batches.  This amortizes the overhead of loading big models.\n",
    "  model = model_fn()\n",
    "  for content_series in content_series_iter:\n",
    "    yield featurize_series(model, content_series)"
   ]
  },
  {
   "cell_type": "code",
   "execution_count": 15,
   "id": "591c8fa4-f9de-41f6-bc99-8da96040ef05",
   "metadata": {},
   "outputs": [],
   "source": [
    "# Pandas UDFs on large records (e.g., very large images) can run into Out Of Memory (OOM) errors.\n",
    "# If you hit such errors in the cell below, try reducing the Arrow batch size via `maxRecordsPerBatch`.\n",
    "spark.conf.set(\"spark.sql.execution.arrow.maxRecordsPerBatch\", \"1024\")"
   ]
  },
  {
   "cell_type": "code",
   "execution_count": 16,
   "id": "f895bf07-1bfa-43ab-a00f-471f90c73518",
   "metadata": {},
   "outputs": [],
   "source": [
    "# We can now run featurization on our entire Spark DataFrame..\n",
    "features_df = images.select(col(\"path\"), col(\"label\"), featurize_udf(\"content\").alias(\"features\"))\n",
    "features_df.write.mode(\"overwrite\").parquet(\"C:/Users/VP/Documents/OC/P8/img_features\")"
   ]
  },
  {
   "cell_type": "markdown",
   "id": "f79cd56e-4b7f-4ba2-a12a-50bb21cb1337",
   "metadata": {},
   "source": [
    "# PCA"
   ]
  },
  {
   "cell_type": "code",
   "execution_count": 19,
   "id": "09f28baf-61b5-4832-859f-15355714f1b0",
   "metadata": {},
   "outputs": [],
   "source": [
    "# convert features from list to vector.dense\n",
    "# it is done using a user defined function\n",
    "list_to_vector_udf = udf(lambda l: Vectors.dense(l), VectorUDT())\n",
    "features_df = features_df.select(col(\"path\"),  col(\"label\"), list_to_vector_udf(features_df[\"features\"]).alias(\"features\"))"
   ]
  },
  {
   "cell_type": "code",
   "execution_count": 22,
   "id": "933ce3f6-c1dd-487a-81fe-edea48fe268c",
   "metadata": {},
   "outputs": [],
   "source": [
    "# features have to be standardized for PCA\n",
    "standardizer = StandardScaler(withMean=True, withStd=True,\n",
    "                              inputCol='features',\n",
    "                              outputCol='feats_scaled')\n",
    "std = standardizer.fit(features_df)\n",
    "features_df_scaled = std.transform(features_df)"
   ]
  },
  {
   "cell_type": "code",
   "execution_count": 23,
   "id": "850e2654-3748-4135-95e1-67d127b724d6",
   "metadata": {},
   "outputs": [
    {
     "name": "stdout",
     "output_type": "stream",
     "text": [
      "root\n",
      " |-- path: string (nullable = true)\n",
      " |-- label: string (nullable = true)\n",
      " |-- features: vector (nullable = true)\n",
      " |-- feats_scaled: vector (nullable = true)\n",
      "\n",
      "+--------------------+--------------+--------------------+--------------------+\n",
      "|                path|         label|            features|        feats_scaled|\n",
      "+--------------------+--------------+--------------------+--------------------+\n",
      "|file:/C:/Users/VP...|        pear_1|[0.0,0.0,0.0,0.0,...|[0.0,0.0,0.0,0.0,...|\n",
      "|file:/C:/Users/VP...|        pear_1|[0.0,0.0,0.0,0.0,...|[0.0,0.0,0.0,0.0,...|\n",
      "|file:/C:/Users/VP...|        pear_1|[0.0,0.0,0.0,0.0,...|[0.0,0.0,0.0,0.0,...|\n",
      "|file:/C:/Users/VP...|apple_golden_1|[0.0,0.0,0.0,0.0,...|[0.0,0.0,0.0,0.0,...|\n",
      "|file:/C:/Users/VP...|apple_golden_1|[0.0,0.0,0.0,0.0,...|[0.0,0.0,0.0,0.0,...|\n",
      "|file:/C:/Users/VP...|apple_golden_1|[0.0,0.0,0.0,0.0,...|[0.0,0.0,0.0,0.0,...|\n",
      "|file:/C:/Users/VP...|      carrot_1|[0.0,0.0,0.0,0.0,...|[0.0,0.0,0.0,0.0,...|\n",
      "|file:/C:/Users/VP...|      carrot_1|[0.0,0.0,0.0,0.0,...|[0.0,0.0,0.0,0.0,...|\n",
      "+--------------------+--------------+--------------------+--------------------+\n",
      "only showing top 8 rows\n",
      "\n"
     ]
    }
   ],
   "source": [
    "features_df_scaled.printSchema()\n",
    "features_df_scaled.show(8)"
   ]
  },
  {
   "cell_type": "code",
   "execution_count": 24,
   "id": "07b11aff-fd83-420e-abe0-c70ea20b277d",
   "metadata": {},
   "outputs": [],
   "source": [
    "pca = PCA(k=7, inputCol=\"feats_scaled\", outputCol=\"pca\")\n",
    "modelpca = pca.fit(features_df_scaled)\n",
    "transformed = modelpca.transform(features_df_scaled)"
   ]
  },
  {
   "cell_type": "code",
   "execution_count": 25,
   "id": "bce46bf4-32eb-4325-b3ff-7b705d7e4c3e",
   "metadata": {},
   "outputs": [],
   "source": [
    "var = modelpca.explainedVariance.cumsum()"
   ]
  },
  {
   "cell_type": "code",
   "execution_count": 29,
   "id": "bba05754-599c-4d64-b171-51dced386f09",
   "metadata": {},
   "outputs": [
    {
     "data": {
      "text/plain": [
       "''"
      ]
     },
     "execution_count": 29,
     "metadata": {},
     "output_type": "execute_result"
    },
    {
     "data": {
      "image/png": "[encoded data removed]",
      "text/plain": [
       "<Figure size 720x432 with 1 Axes>"
      ]
     },
     "metadata": {},
     "output_type": "display_data"
    }
   ],
   "source": [
    "set_style_pers()\n",
    "sns.lineplot(x=[_ for _ in range(7)], y=var)\n",
    "plt.title(\"Cumlative variance explained by PCs\")\n",
    "plt.ylabel(\"% of variance explained\")\n",
    "plt.xlabel(\"number of components taken into account\")\n",
    ";"
   ]
  },
  {
   "cell_type": "code",
   "execution_count": 30,
   "id": "ec0d4902-6023-4797-8853-1cf4dcf32f47",
   "metadata": {},
   "outputs": [],
   "source": [
    "# convert the spark dataframe to pd.DataFrame and save it as csv locally\n",
    "pd_transformed = transformed.select(\"path\", \"label\", \"pca\").toPandas()\n",
    "pd_transformed.to_csv(\"C:/Users/VP/Documents/OC/P8/pca_features.csv\")"
   ]
  }
 ],
 "metadata": {
  "kernelspec": {
   "display_name": "env_p8_3_7",
   "language": "python",
   "name": "env_p8_3_7"
  },
  "language_info": {
   "codemirror_mode": {
    "name": "ipython",
    "version": 3
   },
   "file_extension": ".py",
   "mimetype": "text/x-python",
   "name": "python",
   "nbconvert_exporter": "python",
   "pygments_lexer": "ipython3",
   "version": "3.7.10"
  }
 },
 "nbformat": 4,
 "nbformat_minor": 5
}
